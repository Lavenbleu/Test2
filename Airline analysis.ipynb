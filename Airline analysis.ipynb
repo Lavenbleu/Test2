{
    "cells": [
        {
            "cell_type": "code",
            "execution_count": 2,
            "metadata": {},
            "outputs": [
                {
                    "data": {
                        "text/html": "<table>\n<thead><tr><th scope=col>Year</th><th scope=col>Month</th><th scope=col>DayofMonth</th><th scope=col>DayOfWeek</th><th scope=col>DepTime</th><th scope=col>CRSDepTime</th><th scope=col>ArrTime</th><th scope=col>CRSArrTime</th><th scope=col>UniqueCarrier</th><th scope=col>FlightNum</th><th scope=col>\u22ef</th><th scope=col>TaxiOut</th><th scope=col>Cancelled</th><th scope=col>CancellationCode</th><th scope=col>Diverted</th><th scope=col>CarrierDelay</th><th scope=col>WeatherDelay</th><th scope=col>NASDelay</th><th scope=col>SecurityDelay</th><th scope=col>LateAircraftDelay</th><th scope=col>0</th></tr></thead>\n<tbody>\n\t<tr><td>2004</td><td>2   </td><td>12  </td><td>4   </td><td>633 </td><td>635 </td><td>935 </td><td>930 </td><td>B6  </td><td>165 </td><td>\u22ef   </td><td>17  </td><td>0   </td><td>nil </td><td>0   </td><td>0   </td><td>0   </td><td>0   </td><td>0   </td><td>0   </td><td>0   </td></tr>\n\t<tr><td>2004</td><td>2   </td><td>16  </td><td>1   </td><td>2115</td><td>2120</td><td>2340</td><td>2350</td><td>B6  </td><td>199 </td><td>\u22ef   </td><td>23  </td><td>0   </td><td>nil </td><td>0   </td><td>0   </td><td>0   </td><td>0   </td><td>0   </td><td>0   </td><td>0   </td></tr>\n\t<tr><td>2004</td><td>2   </td><td>18  </td><td>3   </td><td>700 </td><td>700 </td><td>817 </td><td>820 </td><td>B6  </td><td>2   </td><td>\u22ef   </td><td>26  </td><td>0   </td><td>nil </td><td>0   </td><td>0   </td><td>0   </td><td>0   </td><td>0   </td><td>0   </td><td>0   </td></tr>\n\t<tr><td>2004</td><td>2   </td><td>19  </td><td>4   </td><td>1140</td><td>1145</td><td>1427</td><td>1420</td><td>B6  </td><td>67  </td><td>\u22ef   </td><td>19  </td><td>0   </td><td>nil </td><td>0   </td><td>0   </td><td>0   </td><td>0   </td><td>0   </td><td>0   </td><td>0   </td></tr>\n\t<tr><td>2004</td><td>2   </td><td>21  </td><td>6   </td><td>936 </td><td>935 </td><td>1036</td><td>1035</td><td>B6  </td><td>68  </td><td>\u22ef   </td><td>16  </td><td>0   </td><td>nil </td><td>0   </td><td>0   </td><td>0   </td><td>0   </td><td>0   </td><td>0   </td><td>0   </td></tr>\n\t<tr><td>2004</td><td>2   </td><td>24  </td><td>2   </td><td>1117</td><td>1120</td><td>1922</td><td>1930</td><td>B6  </td><td>206 </td><td>\u22ef   </td><td>10  </td><td>0   </td><td>nil </td><td>0   </td><td>0   </td><td>0   </td><td>0   </td><td>0   </td><td>0   </td><td>0   </td></tr>\n</tbody>\n</table>\n",
                        "text/latex": "\\begin{tabular}{r|llllllllllllllllllllllllllllll}\n Year & Month & DayofMonth & DayOfWeek & DepTime & CRSDepTime & ArrTime & CRSArrTime & UniqueCarrier & FlightNum & \u22ef & TaxiOut & Cancelled & CancellationCode & Diverted & CarrierDelay & WeatherDelay & NASDelay & SecurityDelay & LateAircraftDelay & 0\\\\\n\\hline\n\t 2004 & 2    & 12   & 4    & 633  & 635  & 935  & 930  & B6   & 165  & \u22ef    & 17   & 0    & nil  & 0    & 0    & 0    & 0    & 0    & 0    & 0   \\\\\n\t 2004 & 2    & 16   & 1    & 2115 & 2120 & 2340 & 2350 & B6   & 199  & \u22ef    & 23   & 0    & nil  & 0    & 0    & 0    & 0    & 0    & 0    & 0   \\\\\n\t 2004 & 2    & 18   & 3    & 700  & 700  & 817  & 820  & B6   & 2    & \u22ef    & 26   & 0    & nil  & 0    & 0    & 0    & 0    & 0    & 0    & 0   \\\\\n\t 2004 & 2    & 19   & 4    & 1140 & 1145 & 1427 & 1420 & B6   & 67   & \u22ef    & 19   & 0    & nil  & 0    & 0    & 0    & 0    & 0    & 0    & 0   \\\\\n\t 2004 & 2    & 21   & 6    & 936  & 935  & 1036 & 1035 & B6   & 68   & \u22ef    & 16   & 0    & nil  & 0    & 0    & 0    & 0    & 0    & 0    & 0   \\\\\n\t 2004 & 2    & 24   & 2    & 1117 & 1120 & 1922 & 1930 & B6   & 206  & \u22ef    & 10   & 0    & nil  & 0    & 0    & 0    & 0    & 0    & 0    & 0   \\\\\n\\end{tabular}\n",
                        "text/markdown": "\nYear | Month | DayofMonth | DayOfWeek | DepTime | CRSDepTime | ArrTime | CRSArrTime | UniqueCarrier | FlightNum | \u22ef | TaxiOut | Cancelled | CancellationCode | Diverted | CarrierDelay | WeatherDelay | NASDelay | SecurityDelay | LateAircraftDelay | 0 | \n|---|---|---|---|---|---|\n| 2004 | 2    | 12   | 4    | 633  | 635  | 935  | 930  | B6   | 165  | \u22ef    | 17   | 0    | nil  | 0    | 0    | 0    | 0    | 0    | 0    | 0    | \n| 2004 | 2    | 16   | 1    | 2115 | 2120 | 2340 | 2350 | B6   | 199  | \u22ef    | 23   | 0    | nil  | 0    | 0    | 0    | 0    | 0    | 0    | 0    | \n| 2004 | 2    | 18   | 3    | 700  | 700  | 817  | 820  | B6   | 2    | \u22ef    | 26   | 0    | nil  | 0    | 0    | 0    | 0    | 0    | 0    | 0    | \n| 2004 | 2    | 19   | 4    | 1140 | 1145 | 1427 | 1420 | B6   | 67   | \u22ef    | 19   | 0    | nil  | 0    | 0    | 0    | 0    | 0    | 0    | 0    | \n| 2004 | 2    | 21   | 6    | 936  | 935  | 1036 | 1035 | B6   | 68   | \u22ef    | 16   | 0    | nil  | 0    | 0    | 0    | 0    | 0    | 0    | 0    | \n| 2004 | 2    | 24   | 2    | 1117 | 1120 | 1922 | 1930 | B6   | 206  | \u22ef    | 10   | 0    | nil  | 0    | 0    | 0    | 0    | 0    | 0    | 0    | \n\n\n",
                        "text/plain": "  Year Month DayofMonth DayOfWeek DepTime CRSDepTime ArrTime CRSArrTime\n1 2004 2     12         4         633     635        935     930       \n2 2004 2     16         1         2115    2120       2340    2350      \n3 2004 2     18         3         700     700        817     820       \n4 2004 2     19         4         1140    1145       1427    1420      \n5 2004 2     21         6         936     935        1036    1035      \n6 2004 2     24         2         1117    1120       1922    1930      \n  UniqueCarrier FlightNum \u22ef TaxiOut Cancelled CancellationCode Diverted\n1 B6            165       \u22ef 17      0         nil              0       \n2 B6            199       \u22ef 23      0         nil              0       \n3 B6            2         \u22ef 26      0         nil              0       \n4 B6            67        \u22ef 19      0         nil              0       \n5 B6            68        \u22ef 16      0         nil              0       \n6 B6            206       \u22ef 10      0         nil              0       \n  CarrierDelay WeatherDelay NASDelay SecurityDelay LateAircraftDelay 0\n1 0            0            0        0             0                 0\n2 0            0            0        0             0                 0\n3 0            0            0        0             0                 0\n4 0            0            0        0             0                 0\n5 0            0            0        0             0                 0\n6 0            0            0        0             0                 0"
                    },
                    "metadata": {},
                    "output_type": "display_data"
                }
            ],
            "source": "# The code was removed by Watson Studio for sharing."
        },
        {
            "cell_type": "code",
            "execution_count": null,
            "metadata": {},
            "outputs": [],
            "source": ""
        },
        {
            "cell_type": "code",
            "execution_count": null,
            "metadata": {},
            "outputs": [],
            "source": ""
        }
    ],
    "metadata": {
        "kernelspec": {
            "display_name": "R 3.6 with Spark",
            "language": "R",
            "name": "r"
        },
        "language_info": {
            "codemirror_mode": "r",
            "file_extension": ".r",
            "mimetype": "text/x-r-source",
            "name": "R",
            "pygments_lexer": "r",
            "version": "3.6.3"
        }
    },
    "nbformat": 4,
    "nbformat_minor": 1
}